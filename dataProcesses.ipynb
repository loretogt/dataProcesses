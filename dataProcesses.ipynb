{
 "cells": [
  {
   "cell_type": "markdown",
   "metadata": {},
   "source": [
    "# Data analysis "
   ]
  },
  {
   "cell_type": "code",
   "execution_count": 54,
   "metadata": {},
   "outputs": [
    {
     "data": {
      "text/html": [
       "<div>\n",
       "<style scoped>\n",
       "    .dataframe tbody tr th:only-of-type {\n",
       "        vertical-align: middle;\n",
       "    }\n",
       "\n",
       "    .dataframe tbody tr th {\n",
       "        vertical-align: top;\n",
       "    }\n",
       "\n",
       "    .dataframe thead th {\n",
       "        text-align: right;\n",
       "    }\n",
       "</style>\n",
       "<table border=\"1\" class=\"dataframe\">\n",
       "  <thead>\n",
       "    <tr style=\"text-align: right;\">\n",
       "      <th></th>\n",
       "      <th>AGE</th>\n",
       "      <th>SEX</th>\n",
       "      <th>DAYS_HOSPITAL</th>\n",
       "      <th>DAYS_ICU</th>\n",
       "      <th>EXITUS</th>\n",
       "      <th>DESTINATION</th>\n",
       "      <th>TEMP</th>\n",
       "      <th>HEART_RATE</th>\n",
       "      <th>GLUCOSE</th>\n",
       "      <th>SAT_O2</th>\n",
       "      <th>BLOOD_PRES_SYS</th>\n",
       "      <th>BLOOD_PRES_DIAS</th>\n",
       "    </tr>\n",
       "    <tr>\n",
       "      <th>ID</th>\n",
       "      <th></th>\n",
       "      <th></th>\n",
       "      <th></th>\n",
       "      <th></th>\n",
       "      <th></th>\n",
       "      <th></th>\n",
       "      <th></th>\n",
       "      <th></th>\n",
       "      <th></th>\n",
       "      <th></th>\n",
       "      <th></th>\n",
       "      <th></th>\n",
       "    </tr>\n",
       "  </thead>\n",
       "  <tbody>\n",
       "    <tr>\n",
       "      <th>1</th>\n",
       "      <td>15.0</td>\n",
       "      <td>FEMALE</td>\n",
       "      <td>4</td>\n",
       "      <td>0</td>\n",
       "      <td>NO</td>\n",
       "      <td>NaN</td>\n",
       "      <td>37.0</td>\n",
       "      <td>0</td>\n",
       "      <td>0</td>\n",
       "      <td>92</td>\n",
       "      <td>0</td>\n",
       "      <td>0</td>\n",
       "    </tr>\n",
       "    <tr>\n",
       "      <th>2</th>\n",
       "      <td>18.0</td>\n",
       "      <td>FEMALE</td>\n",
       "      <td>4</td>\n",
       "      <td>0</td>\n",
       "      <td>NO</td>\n",
       "      <td>ADMISSION</td>\n",
       "      <td>37.3</td>\n",
       "      <td>105</td>\n",
       "      <td>0</td>\n",
       "      <td>97</td>\n",
       "      <td>0</td>\n",
       "      <td>0</td>\n",
       "    </tr>\n",
       "    <tr>\n",
       "      <th>3</th>\n",
       "      <td>21.0</td>\n",
       "      <td>MALE</td>\n",
       "      <td>7</td>\n",
       "      <td>0</td>\n",
       "      <td>NO</td>\n",
       "      <td>NaN</td>\n",
       "      <td>38.5</td>\n",
       "      <td>112</td>\n",
       "      <td>0</td>\n",
       "      <td>95</td>\n",
       "      <td>85</td>\n",
       "      <td>47</td>\n",
       "    </tr>\n",
       "    <tr>\n",
       "      <th>4</th>\n",
       "      <td>21.0</td>\n",
       "      <td>MALE</td>\n",
       "      <td>10</td>\n",
       "      <td>0</td>\n",
       "      <td>NO</td>\n",
       "      <td>ADMISSION</td>\n",
       "      <td>39.2</td>\n",
       "      <td>113</td>\n",
       "      <td>0</td>\n",
       "      <td>97</td>\n",
       "      <td>0</td>\n",
       "      <td>0</td>\n",
       "    </tr>\n",
       "    <tr>\n",
       "      <th>5</th>\n",
       "      <td>22.0</td>\n",
       "      <td>MALE</td>\n",
       "      <td>4</td>\n",
       "      <td>0</td>\n",
       "      <td>NO</td>\n",
       "      <td>NaN</td>\n",
       "      <td>36.3</td>\n",
       "      <td>80</td>\n",
       "      <td>0</td>\n",
       "      <td>92</td>\n",
       "      <td>111</td>\n",
       "      <td>70</td>\n",
       "    </tr>\n",
       "  </tbody>\n",
       "</table>\n",
       "</div>"
      ],
      "text/plain": [
       "     AGE     SEX  DAYS_HOSPITAL  DAYS_ICU EXITUS DESTINATION  TEMP  \\\n",
       "ID                                                                   \n",
       "1   15.0  FEMALE              4         0     NO         NaN  37.0   \n",
       "2   18.0  FEMALE              4         0     NO   ADMISSION  37.3   \n",
       "3   21.0    MALE              7         0     NO         NaN  38.5   \n",
       "4   21.0    MALE             10         0     NO   ADMISSION  39.2   \n",
       "5   22.0    MALE              4         0     NO         NaN  36.3   \n",
       "\n",
       "    HEART_RATE  GLUCOSE  SAT_O2  BLOOD_PRES_SYS  BLOOD_PRES_DIAS  \n",
       "ID                                                                \n",
       "1            0        0      92               0                0  \n",
       "2          105        0      97               0                0  \n",
       "3          112        0      95              85               47  \n",
       "4          113        0      97               0                0  \n",
       "5           80        0      92             111               70  "
      ]
     },
     "execution_count": 54,
     "metadata": {},
     "output_type": "execute_result"
    }
   ],
   "source": [
    "import pandas as pd\n",
    "import numpy as np\n",
    "import matplotlib.pyplot as plt\n",
    "df = pd.read_csv(\"COVID19_data.csv\", index_col=\"ID\")\n",
    "df.head()"
   ]
  },
  {
   "cell_type": "code",
   "execution_count": 55,
   "metadata": {},
   "outputs": [
    {
     "name": "stdout",
     "output_type": "stream",
     "text": [
      "24648\n"
     ]
    }
   ],
   "source": [
    "print(df.size)"
   ]
  },
  {
   "cell_type": "markdown",
   "metadata": {},
   "source": [
    "## Preprocessing"
   ]
  },
  {
   "cell_type": "markdown",
   "metadata": {},
   "source": [
    "### Null values"
   ]
  },
  {
   "cell_type": "code",
   "execution_count": 56,
   "metadata": {},
   "outputs": [
    {
     "data": {
      "text/plain": [
       "AGE                   4\n",
       "SEX                   2\n",
       "DAYS_HOSPITAL         0\n",
       "DAYS_ICU              0\n",
       "EXITUS               41\n",
       "DESTINATION        1383\n",
       "TEMP                  0\n",
       "HEART_RATE            0\n",
       "GLUCOSE               0\n",
       "SAT_O2                0\n",
       "BLOOD_PRES_SYS        0\n",
       "BLOOD_PRES_DIAS       0\n",
       "dtype: int64"
      ]
     },
     "execution_count": 56,
     "metadata": {},
     "output_type": "execute_result"
    }
   ],
   "source": [
    "df.isnull().sum() "
   ]
  },
  {
   "cell_type": "markdown",
   "metadata": {},
   "source": [
    "#### DESTINATION"
   ]
  },
  {
   "cell_type": "code",
   "execution_count": 57,
   "metadata": {},
   "outputs": [
    {
     "data": {
      "text/plain": [
       "ADMISSION    671\n",
       "Name: DESTINATION, dtype: int64"
      ]
     },
     "execution_count": 57,
     "metadata": {},
     "output_type": "execute_result"
    }
   ],
   "source": [
    "df.DESTINATION.value_counts()"
   ]
  },
  {
   "cell_type": "code",
   "execution_count": 58,
   "metadata": {},
   "outputs": [
    {
     "data": {
      "text/plain": [
       "67.33203505355404"
      ]
     },
     "execution_count": 58,
     "metadata": {},
     "output_type": "execute_result"
    }
   ],
   "source": [
    "df.DESTINATION.isnull().sum()  * 100 / len(df)"
   ]
  },
  {
   "cell_type": "markdown",
   "metadata": {},
   "source": [
    "Since the number of null elements in this variable is extremely high, and all elements have the same value, this variable is eliminated. "
   ]
  },
  {
   "cell_type": "code",
   "execution_count": 59,
   "metadata": {},
   "outputs": [],
   "source": [
    "df = df.drop(['DESTINATION'], axis=1)"
   ]
  },
  {
   "cell_type": "markdown",
   "metadata": {},
   "source": [
    "#### Rest of variables \n",
    "Since the number of null elements in the rest of the variables is very small, these elements are eliminated. "
   ]
  },
  {
   "cell_type": "code",
   "execution_count": 60,
   "metadata": {},
   "outputs": [
    {
     "data": {
      "text/plain": [
       "AGE                0\n",
       "SEX                0\n",
       "DAYS_HOSPITAL      0\n",
       "DAYS_ICU           0\n",
       "EXITUS             0\n",
       "TEMP               0\n",
       "HEART_RATE         0\n",
       "GLUCOSE            0\n",
       "SAT_O2             0\n",
       "BLOOD_PRES_SYS     0\n",
       "BLOOD_PRES_DIAS    0\n",
       "dtype: int64"
      ]
     },
     "execution_count": 60,
     "metadata": {},
     "output_type": "execute_result"
    }
   ],
   "source": [
    "df = df[df['AGE'].notna()]\n",
    "df = df[df['SEX'].notna()]\n",
    "df = df[df['EXITUS'].notna()]\n",
    "df.isnull().sum() "
   ]
  },
  {
   "cell_type": "code",
   "execution_count": 61,
   "metadata": {},
   "outputs": [
    {
     "data": {
      "text/plain": [
       "AGE                float64\n",
       "SEX                 object\n",
       "DAYS_HOSPITAL        int64\n",
       "DAYS_ICU             int64\n",
       "EXITUS              object\n",
       "TEMP               float64\n",
       "HEART_RATE           int64\n",
       "GLUCOSE              int64\n",
       "SAT_O2               int64\n",
       "BLOOD_PRES_SYS       int64\n",
       "BLOOD_PRES_DIAS      int64\n",
       "dtype: object"
      ]
     },
     "execution_count": 61,
     "metadata": {},
     "output_type": "execute_result"
    }
   ],
   "source": [
    "df.dtypes"
   ]
  },
  {
   "cell_type": "markdown",
   "metadata": {},
   "source": [
    "### Dataset normalization"
   ]
  },
  {
   "cell_type": "code",
   "execution_count": 62,
   "metadata": {},
   "outputs": [
    {
     "data": {
      "text/plain": [
       "NO     1678\n",
       "YES     329\n",
       "Name: EXITUS, dtype: int64"
      ]
     },
     "execution_count": 62,
     "metadata": {},
     "output_type": "execute_result"
    }
   ],
   "source": [
    "df.EXITUS.value_counts()"
   ]
  },
  {
   "cell_type": "code",
   "execution_count": 63,
   "metadata": {},
   "outputs": [],
   "source": [
    "df.EXITUS = df.EXITUS.replace('NO',0)\n",
    "df.EXITUS = df.EXITUS.replace('YES',1)\n",
    "Y = df.EXITUS"
   ]
  },
  {
   "cell_type": "code",
   "execution_count": 64,
   "metadata": {},
   "outputs": [],
   "source": [
    "\n",
    "from sklearn.preprocessing import OneHotEncoder, MinMaxScaler\n",
    "from sklearn.compose import make_column_transformer\n",
    "\n",
    "X = df.drop(['EXITUS'], axis=1)\n",
    "\n",
    "col_transformer = make_column_transformer(\n",
    "    (OneHotEncoder(), ['SEX']), \n",
    "    (MinMaxScaler(), ['AGE', 'DAYS_HOSPITAL', 'DAYS_ICU', 'TEMP', 'HEART_RATE', 'GLUCOSE', 'SAT_O2', 'BLOOD_PRES_SYS', 'BLOOD_PRES_DIAS']))\n",
    "\n",
    "X = col_transformer.fit_transform(X)"
   ]
  },
  {
   "cell_type": "code",
   "execution_count": 65,
   "metadata": {},
   "outputs": [],
   "source": [
    "X = pd.DataFrame(data=X)\n"
   ]
  },
  {
   "cell_type": "markdown",
   "metadata": {},
   "source": [
    "# Clasification"
   ]
  },
  {
   "cell_type": "code",
   "execution_count": 66,
   "metadata": {},
   "outputs": [],
   "source": [
    "from sklearn.model_selection import train_test_split \n",
    "\n",
    "X_train, X_test, y_train, y_test = train_test_split(X, Y, test_size=0.3, random_state=4815)"
   ]
  },
  {
   "cell_type": "markdown",
   "metadata": {},
   "source": [
    "### Regresión logistica "
   ]
  },
  {
   "cell_type": "code",
   "execution_count": 75,
   "metadata": {},
   "outputs": [
    {
     "name": "stdout",
     "output_type": "stream",
     "text": [
      "[[491   1]\n",
      " [106   5]]\n",
      "Accuracy : 0.823\n",
      "Precision : 0.833\n",
      "Recall : 0.045\n",
      "F1 : 0.085\n"
     ]
    }
   ],
   "source": [
    "from sklearn.linear_model import LogisticRegression\n",
    "from sklearn import metrics\n",
    "\n",
    "LL = LogisticRegression()\n",
    "LL.fit(X_train,y_train)\n",
    "Y_pred_test = LL.predict(X_test)  \n",
    "print(metrics.confusion_matrix(y_test,Y_pred_test))\n",
    "print( \"Accuracy : \" + str(np.round(metrics.accuracy_score(y_test,Y_pred_test),3)))\n",
    "print( \"Precision : \" + str(np.round(metrics.precision_score(y_test,Y_pred_test),3)))\n",
    "print( \"Recall : \" + str(np.round(metrics.recall_score(y_test,Y_pred_test),3)))\n",
    "print( \"F1 : \" + str(np.round(metrics.f1_score(y_test,Y_pred_test),3)))"
   ]
  }
 ],
 "metadata": {
  "interpreter": {
   "hash": "aee8b7b246df8f9039afb4144a1f6fd8d2ca17a180786b69acc140d282b71a49"
  },
  "kernelspec": {
   "display_name": "Python 3.7.3 64-bit",
   "language": "python",
   "name": "python3"
  },
  "language_info": {
   "codemirror_mode": {
    "name": "ipython",
    "version": 3
   },
   "file_extension": ".py",
   "mimetype": "text/x-python",
   "name": "python",
   "nbconvert_exporter": "python",
   "pygments_lexer": "ipython3",
   "version": "3.7.3"
  },
  "orig_nbformat": 4
 },
 "nbformat": 4,
 "nbformat_minor": 2
}
